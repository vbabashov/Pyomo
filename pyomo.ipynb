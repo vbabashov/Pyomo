{
 "cells": [
  {
   "cell_type": "markdown",
   "metadata": {},
   "source": [
    "# OR Tools Simple Example"
   ]
  },
  {
   "cell_type": "code",
   "execution_count": 1,
   "metadata": {},
   "outputs": [
    {
     "name": "stdout",
     "output_type": "stream",
     "text": [
      "Name: ortools\n",
      "Version: 9.10.4067\n",
      "Summary: Google OR-Tools python libraries and modules\n",
      "Home-page: https://developers.google.com/optimization/\n",
      "Author: Google LLC\n",
      "Author-email: or-tools@google.com\n",
      "License: Apache 2.0\n",
      "Location: c:\\users\\vusal.babashov\\myprograms\\python3.9\\lib\\site-packages\n",
      "Requires: absl-py, immutabledict, numpy, pandas, protobuf\n",
      "Required-by: \n"
     ]
    }
   ],
   "source": [
    "!pip show ortools"
   ]
  },
  {
   "cell_type": "code",
   "execution_count": 91,
   "metadata": {},
   "outputs": [
    {
     "name": "stdout",
     "output_type": "stream",
     "text": [
      "Optimal Found\n",
      "x: 4.0\n",
      "y: 5.5\n"
     ]
    }
   ],
   "source": [
    "from ortools.linear_solver import pywraplp\n",
    "\n",
    "solver = pywraplp.Solver.CreateSolver ('cbc')\n",
    "\n",
    "x = solver.IntVar (0, 10, 'x')\n",
    "y = solver.NumVar(0, 10, 'y')\n",
    "\n",
    "solver.Add (-x+2*y<= 7)\n",
    "solver.Add (2*x+y <= 14)\n",
    "solver.Add (2*x-y <= 10)\n",
    "\n",
    "solver.Maximize (x+y)\n",
    "results = solver.Solve()\n",
    "\n",
    "if results == pywraplp.Solver.OPTIMAL :\n",
    "    print (\"Optimal Found\")\n",
    "print(\"x:\", x.solution_value())\n",
    "print(\"y:\", y.solution_value())"
   ]
  },
  {
   "cell_type": "markdown",
   "metadata": {},
   "source": [
    "# Pyomo Simple Example"
   ]
  },
  {
   "cell_type": "code",
   "execution_count": 7,
   "metadata": {},
   "outputs": [
    {
     "name": "stdout",
     "output_type": "stream",
     "text": [
      "Name: Pyomo\n",
      "Version: 6.7.1\n",
      "Summary: Pyomo: Python Optimization Modeling Objects\n",
      "Home-page: http://pyomo.org\n",
      "Author: \n",
      "Author-email: \n",
      "License: BSD\n",
      "Location: c:\\users\\vusal.babashov\\myprograms\\python3.9\\lib\\site-packages\n",
      "Requires: ply\n",
      "Required-by: \n"
     ]
    }
   ],
   "source": [
    "!pip show pyomo"
   ]
  },
  {
   "cell_type": "code",
   "execution_count": 105,
   "metadata": {},
   "outputs": [
    {
     "name": "stdout",
     "output_type": "stream",
     "text": [
      "2 Var Declarations\n",
      "    x : Size=1, Index=None\n",
      "        Key  : Lower : Value              : Upper : Fixed : Stale : Domain\n",
      "        None :     0 : 5.6067151589768685 :    10 : False : False : Integers\n",
      "    y : Size=1, Index=None\n",
      "        Key  : Lower : Value              : Upper : Fixed : Stale : Domain\n",
      "        None :     0 : 1.2134302215032389 :    10 : False : False :  Reals\n",
      "\n",
      "1 Objective Declarations\n",
      "    obj : Size=1, Index=None, Active=True\n",
      "        Key  : Active : Sense    : Expression\n",
      "        None :   True : maximize : x + y*x\n",
      "\n",
      "3 Constraint Declarations\n",
      "    c1 : Size=1, Index=None, Active=True\n",
      "        Key  : Lower : Body        : Upper : Active\n",
      "        None :  -Inf : - x + 2*x*y :   8.0 :   True\n",
      "    c2 : Size=1, Index=None, Active=True\n",
      "        Key  : Lower : Body    : Upper : Active\n",
      "        None :  -Inf : 2*x + y :  14.0 :   True\n",
      "    c3 : Size=1, Index=None, Active=True\n",
      "        Key  : Lower : Body    : Upper : Active\n",
      "        None :  -Inf : 2*x - y :  10.0 :   True\n",
      "\n",
      "6 Declarations: x y c1 c2 c3 obj\n",
      "\n",
      "---------------------------------------------------------------\n",
      "x= 5.6067151589768685\n",
      "y= 1.2134302215032389\n"
     ]
    }
   ],
   "source": [
    "import pyomo.environ as pyo\n",
    "from pyomo.environ import *\n",
    "from pyomo.opt import SolverFactory\n",
    "\n",
    "model = pyo.ConcreteModel()\n",
    "model.x = pyo.Var (within = Integers, bounds = (0, 10))\n",
    "model.y = pyo.Var(bounds = (0, 10))\n",
    "\n",
    "x = model.x\n",
    "y = model.y\n",
    "\n",
    "model.c1 = pyo.Constraint (expr=  -x+2*x*y <= 8)\n",
    "model.c2 = pyo.Constraint (expr=  2*x+y <= 14)\n",
    "model.c3 = pyo.Constraint (expr=  2*x-y<= 10)\n",
    "\n",
    "model.obj = pyo.Objective (expr =  x+y*x, sense =  maximize)\n",
    "\n",
    "opt = SolverFactory('ipopt', executable=\"C:\\\\Users\\\\vusal.babashov\\\\MyPrograms\\\\Ipopt-3.11.1-win64-intel13.1\\\\bin\\\\ipopt.exe\")\n",
    "\n",
    "result = opt.solve(model)\n",
    "\n",
    "model.pprint()\n",
    "x_value = pyo.value (x)\n",
    "y_value = pyo.value (y)\n",
    "print (\"\\n---------------------------------------------------------------\")\n",
    "print ('x=', x_value)\n",
    "print ('y=', y_value)\n",
    "# print (result)"
   ]
  },
  {
   "cell_type": "markdown",
   "metadata": {},
   "source": [
    "# Pyomo Input Data From Excel"
   ]
  },
  {
   "cell_type": "code",
   "execution_count": 23,
   "metadata": {},
   "outputs": [],
   "source": [
    "import pyomo.environ as pyo\n",
    "from pyomo.environ import *\n",
    "from pyomo.opt import SolverFactory\n",
    "import pandas as pd\n",
    "\n",
    "#inputs\n",
    "dataGen = pd.read_excel(\"C:\\\\Users\\\\vusal.babashov\\\\OneDrive - Canadian Tire\\\\Desktop\\\\inputs.xlsx\", sheet_name = 'gen')\n",
    "dataLoad = pd.read_excel(\"C:\\\\Users\\\\vusal.babashov\\OneDrive - Canadian Tire\\\\Desktop\\\\inputs.xlsx\", sheet_name = 'load')\n",
    "Ng = len(dataGen)\n"
   ]
  },
  {
   "cell_type": "code",
   "execution_count": 21,
   "metadata": {},
   "outputs": [
    {
     "data": {
      "text/html": [
       "<div>\n",
       "<style scoped>\n",
       "    .dataframe tbody tr th:only-of-type {\n",
       "        vertical-align: middle;\n",
       "    }\n",
       "\n",
       "    .dataframe tbody tr th {\n",
       "        vertical-align: top;\n",
       "    }\n",
       "\n",
       "    .dataframe thead th {\n",
       "        text-align: right;\n",
       "    }\n",
       "</style>\n",
       "<table border=\"1\" class=\"dataframe\">\n",
       "  <thead>\n",
       "    <tr style=\"text-align: right;\">\n",
       "      <th></th>\n",
       "      <th>id</th>\n",
       "      <th>limit</th>\n",
       "      <th>cost</th>\n",
       "    </tr>\n",
       "  </thead>\n",
       "  <tbody>\n",
       "    <tr>\n",
       "      <th>0</th>\n",
       "      <td>0</td>\n",
       "      <td>20</td>\n",
       "      <td>0.10</td>\n",
       "    </tr>\n",
       "    <tr>\n",
       "      <th>1</th>\n",
       "      <td>1</td>\n",
       "      <td>10</td>\n",
       "      <td>0.05</td>\n",
       "    </tr>\n",
       "    <tr>\n",
       "      <th>2</th>\n",
       "      <td>2</td>\n",
       "      <td>40</td>\n",
       "      <td>0.30</td>\n",
       "    </tr>\n",
       "    <tr>\n",
       "      <th>3</th>\n",
       "      <td>3</td>\n",
       "      <td>50</td>\n",
       "      <td>0.40</td>\n",
       "    </tr>\n",
       "    <tr>\n",
       "      <th>4</th>\n",
       "      <td>4</td>\n",
       "      <td>5</td>\n",
       "      <td>0.01</td>\n",
       "    </tr>\n",
       "  </tbody>\n",
       "</table>\n",
       "</div>"
      ],
      "text/plain": [
       "   id  limit  cost\n",
       "0   0     20  0.10\n",
       "1   1     10  0.05\n",
       "2   2     40  0.30\n",
       "3   3     50  0.40\n",
       "4   4      5  0.01"
      ]
     },
     "execution_count": 21,
     "metadata": {},
     "output_type": "execute_result"
    }
   ],
   "source": [
    "dataGen"
   ]
  },
  {
   "cell_type": "code",
   "execution_count": 22,
   "metadata": {},
   "outputs": [
    {
     "data": {
      "text/html": [
       "<div>\n",
       "<style scoped>\n",
       "    .dataframe tbody tr th:only-of-type {\n",
       "        vertical-align: middle;\n",
       "    }\n",
       "\n",
       "    .dataframe tbody tr th {\n",
       "        vertical-align: top;\n",
       "    }\n",
       "\n",
       "    .dataframe thead th {\n",
       "        text-align: right;\n",
       "    }\n",
       "</style>\n",
       "<table border=\"1\" class=\"dataframe\">\n",
       "  <thead>\n",
       "    <tr style=\"text-align: right;\">\n",
       "      <th></th>\n",
       "      <th>id</th>\n",
       "      <th>value</th>\n",
       "    </tr>\n",
       "  </thead>\n",
       "  <tbody>\n",
       "    <tr>\n",
       "      <th>0</th>\n",
       "      <td>0</td>\n",
       "      <td>50</td>\n",
       "    </tr>\n",
       "    <tr>\n",
       "      <th>1</th>\n",
       "      <td>1</td>\n",
       "      <td>20</td>\n",
       "    </tr>\n",
       "    <tr>\n",
       "      <th>2</th>\n",
       "      <td>2</td>\n",
       "      <td>30</td>\n",
       "    </tr>\n",
       "  </tbody>\n",
       "</table>\n",
       "</div>"
      ],
      "text/plain": [
       "   id  value\n",
       "0   0     50\n",
       "1   1     20\n",
       "2   2     30"
      ]
     },
     "execution_count": 22,
     "metadata": {},
     "output_type": "execute_result"
    }
   ],
   "source": [
    "dataLoad"
   ]
  },
  {
   "cell_type": "code",
   "execution_count": 32,
   "metadata": {},
   "outputs": [],
   "source": [
    "model = pyo.ConcreteModel ()\n",
    "model.Pg = pyo.Var (range (5), bounds = (0, None))\n",
    "Pg = model.Pg"
   ]
  },
  {
   "cell_type": "code",
   "execution_count": 33,
   "metadata": {},
   "outputs": [
    {
     "name": "stdout",
     "output_type": "stream",
     "text": [
      "Pg : Size=5, Index={0, 1, 2, 3, 4}\n",
      "    Key : Lower : Value : Upper : Fixed : Stale : Domain\n",
      "      0 :     0 :  None :  None : False :  True :  Reals\n",
      "      1 :     0 :  None :  None : False :  True :  Reals\n",
      "      2 :     0 :  None :  None : False :  True :  Reals\n",
      "      3 :     0 :  None :  None : False :  True :  Reals\n",
      "      4 :     0 :  None :  None : False :  True :  Reals\n"
     ]
    }
   ],
   "source": [
    "model.Pg.pprint()"
   ]
  },
  {
   "cell_type": "code",
   "execution_count": 35,
   "metadata": {},
   "outputs": [
    {
     "data": {
      "text/plain": [
       "[50, 20, 30]"
      ]
     },
     "execution_count": 35,
     "metadata": {},
     "output_type": "execute_result"
    }
   ],
   "source": [
    "[dataLoad.value [d] for d in dataLoad.id]"
   ]
  },
  {
   "cell_type": "code",
   "execution_count": 36,
   "metadata": {},
   "outputs": [
    {
     "data": {
      "text/plain": [
       "[<pyomo.core.base.var._GeneralVarData at 0x1a3d4e077b0>,\n",
       " <pyomo.core.base.var._GeneralVarData at 0x1a3d4e07c10>,\n",
       " <pyomo.core.base.var._GeneralVarData at 0x1a3d4e07a50>,\n",
       " <pyomo.core.base.var._GeneralVarData at 0x1a3d4e079e0>,\n",
       " <pyomo.core.base.var._GeneralVarData at 0x1a3d4e07970>]"
      ]
     },
     "execution_count": 36,
     "metadata": {},
     "output_type": "execute_result"
    }
   ],
   "source": [
    "[Pg[g] for g in dataGen.id]"
   ]
  },
  {
   "cell_type": "code",
   "execution_count": 39,
   "metadata": {},
   "outputs": [
    {
     "name": "stdout",
     "output_type": "stream",
     "text": [
      "Pg[0] + Pg[1] + Pg[2] + Pg[3] + Pg[4]\n"
     ]
    }
   ],
   "source": [
    "print (sum ([Pg[g] for g in dataGen.id]))"
   ]
  },
  {
   "cell_type": "code",
   "execution_count": 49,
   "metadata": {},
   "outputs": [
    {
     "name": "stdout",
     "output_type": "stream",
     "text": [
      "WARNING: Implicitly replacing the Component attribute balance (type=<class\n",
      "'pyomo.core.base.constraint.ScalarConstraint'>) on block unknown with a new\n",
      "Component (type=<class\n",
      "'pyomo.core.base.constraint.AbstractScalarConstraint'>). This is usually\n",
      "indicative of a modelling error. To avoid this warning, use\n",
      "block.del_component() and block.add_component().\n",
      "WARNING: Implicitly replacing the Component attribute cond (type=<class\n",
      "'pyomo.core.base.constraint.ScalarConstraint'>) on block unknown with a new\n",
      "Component (type=<class\n",
      "'pyomo.core.base.constraint.AbstractScalarConstraint'>). This is usually\n",
      "indicative of a modelling error. To avoid this warning, use\n",
      "block.del_component() and block.add_component().\n",
      "WARNING: Implicitly replacing the Component attribute limits (type=<class\n",
      "'pyomo.core.base.constraint.ConstraintList'>) on block unknown with a new\n",
      "Component (type=<class 'pyomo.core.base.constraint.ConstraintList'>). This is\n",
      "usually indicative of a modelling error. To avoid this warning, use\n",
      "block.del_component() and block.add_component().\n",
      "WARNING: Implicitly replacing the Component attribute obj (type=<class\n",
      "'pyomo.core.base.objective.ScalarObjective'>) on block unknown with a new\n",
      "Component (type=<class 'pyomo.core.base.objective.ScalarObjective'>). This is\n",
      "usually indicative of a modelling error. To avoid this warning, use\n",
      "block.del_component() and block.add_component().\n"
     ]
    },
    {
     "data": {
      "text/plain": [
       "{'Problem': [{'Name': 'unknown', 'Lower bound': 25.05, 'Upper bound': 25.05, 'Number of objectives': 1, 'Number of constraints': 7, 'Number of variables': 5, 'Number of nonzeros': 12, 'Sense': 'minimize'}], 'Solver': [{'Status': 'ok', 'Termination condition': 'optimal', 'Statistics': {'Branch and bound': {'Number of bounded subproblems': 0, 'Number of created subproblems': 0}}, 'Error rc': 0, 'Time': 0.07904720306396484}], 'Solution': [OrderedDict([('number of solutions', 0), ('number of solutions displayed', 0)])]}"
      ]
     },
     "execution_count": 49,
     "metadata": {},
     "output_type": "execute_result"
    }
   ],
   "source": [
    "pg_sum = sum ([Pg[g] for g in dataGen.id])\n",
    "model.balance = pyo.Constraint (expr = pg_sum == sum (dataLoad.value))\n",
    "model.cond = pyo.Constraint (expr = Pg[0] + Pg [3] >= dataLoad.value[0])\n",
    "model.limits = pyo.ConstraintList ()\n",
    "for g in dataGen.id:\n",
    "    model.limits.add(expr=Pg[g] <= dataGen.limit[g])\n",
    "model.obj = pyo.Objective(expr = sum ([Pg[g]*dataGen.cost[g] for g in dataGen.id]))\n",
    "opt = SolverFactory('glpk')\n",
    "opt.solve(model)"
   ]
  },
  {
   "cell_type": "code",
   "execution_count": 50,
   "metadata": {},
   "outputs": [
    {
     "name": "stdout",
     "output_type": "stream",
     "text": [
      "   id  limit  cost    Pg\n",
      "0   0     20  0.10  20.0\n",
      "1   1     10  0.05  10.0\n",
      "2   2     40  0.30  35.0\n",
      "3   3     50  0.40  30.0\n",
      "4   4      5  0.01   5.0\n"
     ]
    }
   ],
   "source": [
    "dataGen['Pg'] = [pyo.value (Pg[g]) for g in dataGen.id]\n",
    "print(dataGen)"
   ]
  },
  {
   "cell_type": "markdown",
   "metadata": {},
   "source": [
    "# Pyomo Another Example"
   ]
  },
  {
   "cell_type": "code",
   "execution_count": 110,
   "metadata": {},
   "outputs": [
    {
     "name": "stdout",
     "output_type": "stream",
     "text": [
      "\n",
      "Problem: \n",
      "- Name: unknown\n",
      "  Lower bound: 17.0\n",
      "  Upper bound: 17.0\n",
      "  Number of objectives: 1\n",
      "  Number of constraints: 8\n",
      "  Number of variables: 6\n",
      "  Number of binary variables: 0\n",
      "  Number of integer variables: 5\n",
      "  Number of nonzeros: 6\n",
      "  Sense: minimize\n",
      "Solver: \n",
      "- Status: ok\n",
      "  User time: -1.0\n",
      "  System time: 0.01\n",
      "  Wallclock time: 0.01\n",
      "  Termination condition: optimal\n",
      "  Termination message: Model was solved to optimality (subject to tolerances), and an optimal solution is available.\n",
      "  Statistics: \n",
      "    Branch and bound: \n",
      "      Number of bounded subproblems: 0\n",
      "      Number of created subproblems: 0\n",
      "    Black box: \n",
      "      Number of iterations: 0\n",
      "  Error rc: 0\n",
      "  Time: 0.0935969352722168\n",
      "Solution: \n",
      "- number of solutions: 0\n",
      "  number of solutions displayed: 0\n",
      "\n",
      "2 Var Declarations\n",
      "    x : Size=5, Index={1, 2, 3, 4, 5}\n",
      "        Key : Lower : Value : Upper : Fixed : Stale : Domain\n",
      "          1 :     0 :   0.0 :  None : False : False : Integers\n",
      "          2 :     0 :   0.0 :  None : False : False : Integers\n",
      "          3 :     0 :   0.0 :  None : False : False : Integers\n",
      "          4 :     0 :   0.0 :  None : False : False : Integers\n",
      "          5 :     0 :   2.0 :  None : False : False : Integers\n",
      "    y : Size=1, Index=None\n",
      "        Key  : Lower : Value : Upper : Fixed : Stale : Domain\n",
      "        None :     0 :  15.0 :  None : False : False :  Reals\n",
      "\n",
      "1 Objective Declarations\n",
      "    obj : Size=1, Index=None, Active=True\n",
      "        Key  : Active : Sense    : Expression\n",
      "        None :   True : minimize : x[1] + x[2] + x[3] + x[4] + x[5] + y\n",
      "\n",
      "4 Constraint Declarations\n",
      "    c1 : Size=1, Index=None, Active=True\n",
      "        Key  : Lower : Body                                 : Upper : Active\n",
      "        None :  -Inf : x[1] + x[2] + x[3] + x[4] + x[5] + y :  20.0 :   True\n",
      "    c2 : Size=5, Index={1, 2, 3, 4, 5}, Active=True\n",
      "        Key : Lower : Body     : Upper : Active\n",
      "          1 :  15.0 : x[1] + y :  +Inf :   True\n",
      "          2 :  15.0 : x[2] + y :  +Inf :   True\n",
      "          3 :  15.0 : x[3] + y :  +Inf :   True\n",
      "          4 :  15.0 : x[4] + y :  +Inf :   True\n",
      "          5 :  15.0 : x[5] + y :  +Inf :   True\n",
      "    c3 : Size=1, Index=None, Active=True\n",
      "        Key  : Lower : Body                                     : Upper : Active\n",
      "        None :  10.0 : x[1] + 2*x[2] + 3*x[3] + 4*x[4] + 5*x[5] :  +Inf :   True\n",
      "    c4 : Size=1, Index=None, Active=True\n",
      "        Key  : Lower : Body       : Upper : Active\n",
      "        None :  30.0 : x[5] + 2*y :  +Inf :   True\n",
      "\n",
      "7 Declarations: x y c1 c2 c3 c4 obj\n",
      "Run Time: 0.14\n",
      "x[1] = 0\n",
      "x[2] = 0\n",
      "x[3] = 0\n",
      "x[4] = 0\n",
      "x[5] = 2\n",
      "y = 15.00\n",
      "Obj =  17.0\n"
     ]
    }
   ],
   "source": [
    "import pyomo.environ as pyo\n",
    "from pyomo.environ import *\n",
    "from pyomo.opt import SolverFactory\n",
    "import time \n",
    "import numpy as np\n",
    "\n",
    "model = pyo.ConcreteModel ()\n",
    "model.x = pyo.Var (range (1, 6), within = Integers, bounds = (0, None))\n",
    "model.y = pyo.Var (bounds = (0, None))\n",
    "\n",
    "x = model.x\n",
    "y = model.y\n",
    "\n",
    "\n",
    "model.c1 = pyo.Constraint (expr = sum ([x[i] for i in range(1,6)]) + y <= 20)\n",
    "model.c2 = pyo.ConstraintList ()\n",
    "\n",
    "for i in range (1, 6):\n",
    "    model.c2.add(expr = x[i] + y >= 15)\n",
    "    \n",
    "model.c3 = pyo.Constraint(expr = sum ([i*x[i] for i in range(1, 6)]) >= 10)\n",
    "model.c4 = pyo.Constraint(expr = x[5] + 2*y >= 30)\n",
    "\n",
    "\n",
    "model.obj = pyo.Objective(expr = sum ([x[i] for i in range(1, 6)]) + y, sense =  minimize)\n",
    "begin = time.time()\n",
    "# opt = SolverFactory('glpk')\n",
    "opt = SolverFactory('cbc', executable=\"C:\\\\Users\\\\vusal.babashov\\\\MyPrograms\\\\solvers\\\\cbc.exe\" )\n",
    "result = opt.solve(model)\n",
    "deltaT = time.time()-begin\n",
    "print (result)\n",
    "model.pprint()\n",
    "\n",
    "print ('Run Time:', np.round (deltaT,2))\n",
    "for i in range (1, 6):\n",
    "    print ('x[%i] = %i' % (i, pyo.value (x[i])))\n",
    "print('y = %.2f' % pyo.value (y))\n",
    "print ('Obj = ', pyo.value(model.obj))"
   ]
  },
  {
   "cell_type": "markdown",
   "metadata": {},
   "source": [
    "# Pyomo NonLinear Example"
   ]
  },
  {
   "cell_type": "code",
   "execution_count": 116,
   "metadata": {},
   "outputs": [
    {
     "name": "stdout",
     "output_type": "stream",
     "text": [
      "2 Var Declarations\n",
      "    x : Size=1, Index=None\n",
      "        Key  : Lower : Value               : Upper : Fixed : Stale : Domain\n",
      "        None :    -5 : -2.0707963262733804 :     5 : False : False :  Reals\n",
      "    y : Size=1, Index=None\n",
      "        Key  : Lower : Value               : Upper : Fixed : Stale : Domain\n",
      "        None :    -5 : -3.1415926514184487 :     5 : False : False :  Reals\n",
      "\n",
      "1 Objective Declarations\n",
      "    obj : Size=1, Index=None, Active=True\n",
      "        Key  : Active : Sense    : Expression\n",
      "        None :   True : maximize : cos(x + 1) + cos(x)*cos(y)\n",
      "\n",
      "3 Declarations: x y obj\n",
      "x= -2.0707963262733804\n",
      "y= -3.1415926514184487\n"
     ]
    }
   ],
   "source": [
    "import pyomo.environ as pyo\n",
    "from pyomo.environ import *\n",
    "from pyomo.opt import SolverFactory\n",
    "\n",
    "model = pyo.ConcreteModel()\n",
    "\n",
    "model.x = pyo.Var (initialize = 0, bounds = (-5, 5))\n",
    "model.y = pyo.Var (initialize = 0, bounds = (-5, 5))\n",
    "\n",
    "x = model.x\n",
    "y = model.y\n",
    "\n",
    "model.obj = pyo.Objective(expr = cos(x+1) + cos(x)*cos(y), sense = maximize)\n",
    "\n",
    "opt = SolverFactory ('ipopt', executable = \"C:\\\\Users\\\\vusal.babashov\\\\MyPrograms\\\\Ipopt-3.11.1-win64-intel13.1\\\\bin\\\\ipopt.exe\")\n",
    "opt.options ['tol'] = 1e-6\n",
    "opt.solve(model)\n",
    "\n",
    "model.pprint()\n",
    "\n",
    "print ('x=', pyo.value(x))\n",
    "print ('y=', pyo.value(y))"
   ]
  },
  {
   "cell_type": "markdown",
   "metadata": {},
   "source": [
    "# Mixed Integer Non Linear Programming"
   ]
  },
  {
   "cell_type": "code",
   "execution_count": 120,
   "metadata": {},
   "outputs": [
    {
     "name": "stdout",
     "output_type": "stream",
     "text": [
      "ERROR: Solver (asl) returned non-zero return code (3221226356)\n",
      "ERROR: Solver log: Couenne 0.5.6 -- an Open-Source solver for Mixed Integer\n",
      "Nonlinear Optimization Mailing list: couenne@list.coin-or.org Instructions:\n",
      "http://www.coin-or.org/Couenne couenne: ANALYSIS TEST: NLP0012I\n",
      "                  Num      Status      Obj             It       time\n",
      "                  Location\n",
      "    NLP0014I             1         OPT -12.410073       10 0.105 Loaded\n",
      "    instance\n",
      "    \"C:\\Users\\vusal.babashov\\AppData\\Local\\Temp\\2\\tmpcx0ria9r.pyomo.nl\"\n",
      "    Constraints:            3 Variables:              4 (3 integer)\n",
      "    Auxiliaries:            4 (0 integer)\n",
      "\n",
      "    Coin0506I Presolve 6 (-1) rows, 3 (-5) columns and 13 (-5) elements\n",
      "    Clp0006I 0  Obj 0 Dual inf 1.0233325 (2) Clp0006I 3  Obj -13 Clp0000I\n",
      "    Optimal - objective value -13 Clp0032I Optimal objective -13 - 3\n",
      "    iterations time 0.002, Presolve 0.00 Clp0000I Optimal - objective value\n",
      "    -13 NLP Heuristic: NLP0014I             2         OPT -12.410073        4\n",
      "    0.001 no solution. Clp0000I Optimal - objective value -13 Optimality Based\n",
      "    BT: Couenne: new cutoff value -5.0000000000e+000 (0.121 seconds) 2\n",
      "    improved bounds Probing: 1 improved bounds NLP Heuristic: Couenne: new\n",
      "    cutoff value -1.1500000000e+001 (0.128 seconds) no solution. Cbc0031I 1\n",
      "    added rows had average density of 3 Cbc0013I At root node, 1 cuts changed\n",
      "    objective from -13 to -12.874239 in 2 passes Cbc0014I Cut generator 0\n",
      "    (Couenne convexifier cuts) - 1 row cuts average 3.0 elements, 1 column\n",
      "    cuts (1 active) Cbc0010I After 0 nodes, 1 on tree, 1e+050 best solution,\n",
      "    best possible -1.7976931e+308 (0.01 seconds) Optimality Based BT: 0\n",
      "    improved bounds Cbc0004I Integer solution of -11.5 found after 5\n",
      "    iterations and 2 nodes (0.02 seconds) Cbc0001I Search completed - best\n",
      "    objective -11.5, took 5 iterations and 2 nodes (0.02 seconds) Cbc0035I\n",
      "    Maximum depth 0, 0 variables fixed on reduced cost\n",
      "            \"Finished\"\n"
     ]
    },
    {
     "ename": "ApplicationError",
     "evalue": "Solver (asl) did not exit normally",
     "output_type": "error",
     "traceback": [
      "\u001b[1;31m---------------------------------------------------------------------------\u001b[0m",
      "\u001b[1;31mApplicationError\u001b[0m                          Traceback (most recent call last)",
      "Cell \u001b[1;32mIn[120], line 20\u001b[0m\n\u001b[0;32m     18\u001b[0m opt \u001b[38;5;241m=\u001b[39m SolverFactory(\u001b[38;5;124m'\u001b[39m\u001b[38;5;124mcouenne\u001b[39m\u001b[38;5;124m'\u001b[39m, executable\u001b[38;5;241m=\u001b[39m\u001b[38;5;124m\"\u001b[39m\u001b[38;5;124mC:\u001b[39m\u001b[38;5;130;01m\\\\\u001b[39;00m\u001b[38;5;124mUsers\u001b[39m\u001b[38;5;130;01m\\\\\u001b[39;00m\u001b[38;5;124mvusal.babashov\u001b[39m\u001b[38;5;130;01m\\\\\u001b[39;00m\u001b[38;5;124mMyPrograms\u001b[39m\u001b[38;5;130;01m\\\\\u001b[39;00m\u001b[38;5;124msolvers\u001b[39m\u001b[38;5;130;01m\\\\\u001b[39;00m\u001b[38;5;124mcouenne.exe\u001b[39m\u001b[38;5;124m\"\u001b[39m)\n\u001b[0;32m     19\u001b[0m \u001b[38;5;66;03m# opt = SolverFactory('glpk')\u001b[39;00m\n\u001b[1;32m---> 20\u001b[0m \u001b[43mopt\u001b[49m\u001b[38;5;241;43m.\u001b[39;49m\u001b[43msolve\u001b[49m\u001b[43m(\u001b[49m\u001b[43mmodel\u001b[49m\u001b[43m)\u001b[49m\n\u001b[0;32m     21\u001b[0m model\u001b[38;5;241m.\u001b[39mpprint()\n\u001b[0;32m     22\u001b[0m x_value \u001b[38;5;241m=\u001b[39m pyo\u001b[38;5;241m.\u001b[39mvalue (x)\n",
      "File \u001b[1;32mc:\\Users\\vusal.babashov\\MyPrograms\\Python3.9\\lib\\site-packages\\pyomo\\opt\\base\\solvers.py:628\u001b[0m, in \u001b[0;36mOptSolver.solve\u001b[1;34m(self, *args, **kwds)\u001b[0m\n\u001b[0;32m    626\u001b[0m     \u001b[38;5;28;01melif\u001b[39;00m \u001b[38;5;28mhasattr\u001b[39m(_status, \u001b[38;5;124m'\u001b[39m\u001b[38;5;124mlog\u001b[39m\u001b[38;5;124m'\u001b[39m) \u001b[38;5;129;01mand\u001b[39;00m _status\u001b[38;5;241m.\u001b[39mlog:\n\u001b[0;32m    627\u001b[0m         logger\u001b[38;5;241m.\u001b[39merror(\u001b[38;5;124m\"\u001b[39m\u001b[38;5;124mSolver log:\u001b[39m\u001b[38;5;130;01m\\n\u001b[39;00m\u001b[38;5;124m\"\u001b[39m \u001b[38;5;241m+\u001b[39m \u001b[38;5;28mstr\u001b[39m(_status\u001b[38;5;241m.\u001b[39mlog))\n\u001b[1;32m--> 628\u001b[0m     \u001b[38;5;28;01mraise\u001b[39;00m ApplicationError(\u001b[38;5;124m\"\u001b[39m\u001b[38;5;124mSolver (\u001b[39m\u001b[38;5;132;01m%s\u001b[39;00m\u001b[38;5;124m) did not exit normally\u001b[39m\u001b[38;5;124m\"\u001b[39m \u001b[38;5;241m%\u001b[39m \u001b[38;5;28mself\u001b[39m\u001b[38;5;241m.\u001b[39mname)\n\u001b[0;32m    629\u001b[0m solve_completion_time \u001b[38;5;241m=\u001b[39m time\u001b[38;5;241m.\u001b[39mtime()\n\u001b[0;32m    630\u001b[0m \u001b[38;5;28;01mif\u001b[39;00m \u001b[38;5;28mself\u001b[39m\u001b[38;5;241m.\u001b[39m_report_timing:\n",
      "\u001b[1;31mApplicationError\u001b[0m: Solver (asl) did not exit normally"
     ]
    }
   ],
   "source": [
    "import pyomo.environ as pyo\n",
    "from pyomo.environ import *\n",
    "from pyomo.opt import SolverFactory\n",
    "\n",
    "model = pyo.ConcreteModel()\n",
    "\n",
    "model.x = pyo.Var (within = Integers, bounds = (0, 10))\n",
    "model.y = pyo.Var(bounds = (0, 10))\n",
    "x = model.x\n",
    "y = model.y\n",
    "\n",
    "model.c1 = pyo.Constraint (expr=  -x+2*y*x <= 8)\n",
    "model.c2 = pyo.Constraint (expr=  2*x+y <= 14)\n",
    "model.c3 = pyo.Constraint (expr=  2*x-y<= 10)\n",
    "\n",
    "model.obj = pyo.Objective (expr =  x+y*x, sense =  maximize)\n",
    "\n",
    "opt = SolverFactory('couenne', executable=\"C:\\\\Users\\\\vusal.babashov\\\\MyPrograms\\\\solvers\\\\couenne.exe\")\n",
    "# opt = SolverFactory('glpk')\n",
    "opt.solve(model)\n",
    "model.pprint()\n",
    "x_value = pyo.value (x)\n",
    "y_value = pyo.value (y)\n",
    "print (\"\\n---------------------------------------------------------------\")\n",
    "print ('x=', x_value)\n",
    "print ('y=', y_value)\n",
    "# print (result)"
   ]
  },
  {
   "cell_type": "markdown",
   "metadata": {},
   "source": [
    "# Mixed Integer-NonLinear Programming (MINLP) (decomposition using mindtpy)"
   ]
  },
  {
   "cell_type": "code",
   "execution_count": 1,
   "metadata": {},
   "outputs": [
    {
     "name": "stdout",
     "output_type": "stream",
     "text": [
      "2 Var Declarations\n",
      "    x : Size=1, Index=None\n",
      "        Key  : Lower : Value : Upper : Fixed : Stale : Domain\n",
      "        None :     0 :   5.0 :    10 : False : False : Integers\n",
      "    y : Size=1, Index=None\n",
      "        Key  : Lower : Value             : Upper : Fixed : Stale : Domain\n",
      "        None :     0 : 1.300000012498684 :    10 : False : False :  Reals\n",
      "\n",
      "1 Objective Declarations\n",
      "    obj : Size=1, Index=None, Active=True\n",
      "        Key  : Active : Sense    : Expression\n",
      "        None :   True : maximize : x + y*x\n",
      "\n",
      "3 Constraint Declarations\n",
      "    c1 : Size=1, Index=None, Active=True\n",
      "        Key  : Lower : Body        : Upper : Active\n",
      "        None :  -Inf : - x + 2*y*x :   8.0 :   True\n",
      "    c2 : Size=1, Index=None, Active=True\n",
      "        Key  : Lower : Body    : Upper : Active\n",
      "        None :  -Inf : 2*x + y :  14.0 :   True\n",
      "    c3 : Size=1, Index=None, Active=True\n",
      "        Key  : Lower : Body    : Upper : Active\n",
      "        None :  -Inf : 2*x - y :  10.0 :   True\n",
      "\n",
      "6 Declarations: x y c1 c2 c3 obj\n",
      "\n",
      "---------------------------------------------------------------\n",
      "x= 5.0\n",
      "y= 1.300000012498684\n"
     ]
    }
   ],
   "source": [
    "import pyomo.environ as pyo\n",
    "from pyomo.environ import *\n",
    "from pyomo.opt import SolverFactory\n",
    "\n",
    "model = pyo.ConcreteModel()\n",
    "\n",
    "model.x = pyo.Var (within = Integers, bounds = (0, 10))\n",
    "model.y = pyo.Var(bounds = (0, 10))\n",
    "x = model.x\n",
    "y = model.y\n",
    "\n",
    "model.c1 = pyo.Constraint (expr=  -x+2*y*x <= 8)\n",
    "model.c2 = pyo.Constraint (expr=  2*x+y <= 14)\n",
    "model.c3 = pyo.Constraint (expr=  2*x-y<= 10)\n",
    "\n",
    "model.obj = pyo.Objective (expr =  x+y*x, sense =  maximize)\n",
    "opt = SolverFactory ('mindtpy')\n",
    "opt.solve(model, mip_solver = 'glpk', nlp_solver = 'ipopt')\n",
    "model.pprint()\n",
    "x_value = pyo.value (x)\n",
    "y_value = pyo.value (y)\n",
    "print (\"\\n---------------------------------------------------------------\")\n",
    "print ('x=', x_value)\n",
    "print ('y=', y_value)\n",
    "# print (result)"
   ]
  },
  {
   "cell_type": "markdown",
   "metadata": {},
   "source": [
    "# Genetic Algorithm "
   ]
  },
  {
   "cell_type": "code",
   "execution_count": 5,
   "metadata": {},
   "outputs": [
    {
     "name": "stdout",
     "output_type": "stream",
     "text": [
      " The best solution found:                                                                           \n",
      " [5.         1.29269335]\n",
      "\n",
      " Objective function:\n",
      " -11.463466739715034\n"
     ]
    },
    {
     "data": {
      "image/png": "[encoded data removed]",
      "text/plain": [
       "<Figure size 640x480 with 1 Axes>"
      ]
     },
     "metadata": {},
     "output_type": "display_data"
    }
   ],
   "source": [
    "import numpy as np\n",
    "from geneticalgorithm import geneticalgorithm as ga\n",
    "\n",
    "def f(x):\n",
    "    pen = 0\n",
    "    if not -x[0] + 2*x[1]*x[0] <= 8 : pen = np.inf\n",
    "    if not 2*x[0] + x[1] <= 14 : pen = np.inf\n",
    "    if not 2*x[0] - x[1] <= 10 : pen = np.inf\n",
    "    return -(x[0] + x[1]*x[0]) + pen\n",
    "    \n",
    "varbounds = np.array ([[0, 10], [0, 10]])\n",
    "vartype = np.array ([['int'], ['real']])\n",
    "\n",
    "model = ga (function = f, dimension = 2, variable_type_mixed = vartype, variable_boundaries=varbounds)\n",
    "model.run()"
   ]
  },
  {
   "cell_type": "markdown",
   "metadata": {},
   "source": [
    "# Genetic Algorithm: Routing Problem"
   ]
  },
  {
   "cell_type": "code",
   "execution_count": 17,
   "metadata": {},
   "outputs": [],
   "source": [
    "import pandas as pd, numpy as np\n",
    "from geneticalgorithm import geneticalgorithm as ga\n",
    " \n",
    "#inputs\n",
    "nodes = pd.read_excel(\"C:\\\\Users\\\\vusal.babashov\\\\OneDrive - Canadian Tire\\\\Desktop\\\\Pyomo\\\\route_inputs.xlsx\", sheet_name='nodes')\n",
    "paths = pd.read_excel('C:\\\\Users\\\\vusal.babashov\\\\OneDrive - Canadian Tire\\\\Desktop\\\\Pyomo\\\\route_inputs.xlsx', sheet_name='paths')\n",
    "nVars = len(paths)\n",
    "\n",
    "#fitness function\n",
    "def f(x):\n",
    "    pen = 0\n",
    "    #constraint sum(x) == 1 (origin)\n",
    "    node_origin = int(nodes.node[nodes.description=='origin'])\n",
    "    if sum([x[p] for p in paths.index[paths.node_from==node_origin]]) != 1:\n",
    "        pen += 1000000 * np.abs(sum([x[p] for p in paths.index[paths.node_from==node_origin]]) - 1)\n",
    "        \n",
    "    #constraint sum(x, in) == sum(x, out)\n",
    "    for node in nodes.node[nodes.description=='middle point']:\n",
    "        sum_in = sum([x[p] for p in paths.index[paths.node_to==node]])\n",
    "        sum_out = sum([x[p] for p in paths.index[paths.node_from==node]])\n",
    "        if sum_in != sum_out:\n",
    "            pen += 1000000 * np.abs(sum_in - sum_out)\n",
    "            \n",
    "    #objective function and return\n",
    "    objFun = sum([x[p] * paths.distance[p] for p in paths.index])\n",
    "    return objFun + pen"
   ]
  },
  {
   "cell_type": "code",
   "execution_count": 18,
   "metadata": {},
   "outputs": [
    {
     "name": "stderr",
     "output_type": "stream",
     "text": [
      "C:\\Users\\vusal.babashov\\AppData\\Local\\Temp\\2\\ipykernel_31572\\1321379173.py:13: FutureWarning: Calling int on a single element Series is deprecated and will raise a TypeError in the future. Use int(ser.iloc[0]) instead\n",
      "  node_origin = int(nodes.node[nodes.description=='origin'])\n"
     ]
    },
    {
     "name": "stdout",
     "output_type": "stream",
     "text": [
      " The best solution found:                                                                           \n",
      " [1. 0. 1. 0. 1. 0. 0. 0.]\n",
      "\n",
      " Objective function:\n",
      " 1370.0\n"
     ]
    },
    {
     "data": {
      "image/png": "[encoded data removed]",
      "text/plain": [
       "<Figure size 640x480 with 1 Axes>"
      ]
     },
     "metadata": {},
     "output_type": "display_data"
    },
    {
     "name": "stdout",
     "output_type": "stream",
     "text": [
      "\n",
      "Warning: GA is terminated due to the maximum number of iterations without improvement was met!\n",
      "\n",
      "All Paths:\n",
      "   node_from  node_to  distance  activated\n",
      "0          1        2       220          1\n",
      "1          1        3      1500          0\n",
      "2          2        4       650          1\n",
      "3          2        5       900          0\n",
      "4          4        7       500          1\n",
      "5          5        7       400          0\n",
      "6          3        6       500          0\n",
      "7          6        7       400          0\n",
      "\n",
      "Selected Paths:\n",
      "   node_from  node_to  distance  activated\n",
      "0          1        2       220          1\n",
      "2          2        4       650          1\n",
      "4          4        7       500          1\n",
      "\n",
      "Total path: 1370.0\n"
     ]
    }
   ],
   "source": [
    "#bounds and var type\n",
    "varbounds = np.array([[0,1]]*nVars)\n",
    "vartype = np.array([['int']]*nVars)\n",
    " \n",
    "#GA parameters\n",
    "algorithm_param = {'max_num_iteration': 500,\\\n",
    "                   'population_size':100,\\\n",
    "                   'mutation_probability':0.30,\\\n",
    "                   'elit_ratio': 0.10,\\\n",
    "                   'crossover_probability': 0.50,\\\n",
    "                   'parents_portion': 0.30,\\\n",
    "                   'crossover_type':'uniform',\\\n",
    "                   'max_iteration_without_improv':100}\n",
    " \n",
    "#Solve\n",
    "model = ga(function=f,\n",
    "           dimension=nVars,\n",
    "           variable_type_mixed=vartype,\n",
    "           variable_boundaries=varbounds,\n",
    "           algorithm_parameters=algorithm_param)\n",
    "model.run()\n",
    " \n",
    "#print\n",
    "x = model.best_variable\n",
    "objFun = model.best_function\n",
    "paths['activated'] = 0\n",
    "for p in paths.index:\n",
    "    paths.activated[p] = x[p]\n",
    " \n",
    "print('\\n\\nAll Paths:')\n",
    "print(paths)\n",
    " \n",
    "print('\\nSelected Paths:')\n",
    "print(paths[paths.activated==1])\n",
    " \n",
    "print('\\nTotal path:', objFun)"
   ]
  },
  {
   "cell_type": "code",
   "execution_count": 7,
   "metadata": {},
   "outputs": [
    {
     "data": {
      "text/html": [
       "<div>\n",
       "<style scoped>\n",
       "    .dataframe tbody tr th:only-of-type {\n",
       "        vertical-align: middle;\n",
       "    }\n",
       "\n",
       "    .dataframe tbody tr th {\n",
       "        vertical-align: top;\n",
       "    }\n",
       "\n",
       "    .dataframe thead th {\n",
       "        text-align: right;\n",
       "    }\n",
       "</style>\n",
       "<table border=\"1\" class=\"dataframe\">\n",
       "  <thead>\n",
       "    <tr style=\"text-align: right;\">\n",
       "      <th></th>\n",
       "      <th>node</th>\n",
       "      <th>description</th>\n",
       "    </tr>\n",
       "  </thead>\n",
       "  <tbody>\n",
       "    <tr>\n",
       "      <th>0</th>\n",
       "      <td>1</td>\n",
       "      <td>origin</td>\n",
       "    </tr>\n",
       "    <tr>\n",
       "      <th>1</th>\n",
       "      <td>2</td>\n",
       "      <td>middle point</td>\n",
       "    </tr>\n",
       "    <tr>\n",
       "      <th>2</th>\n",
       "      <td>3</td>\n",
       "      <td>middle point</td>\n",
       "    </tr>\n",
       "    <tr>\n",
       "      <th>3</th>\n",
       "      <td>4</td>\n",
       "      <td>middle point</td>\n",
       "    </tr>\n",
       "    <tr>\n",
       "      <th>4</th>\n",
       "      <td>5</td>\n",
       "      <td>middle point</td>\n",
       "    </tr>\n",
       "    <tr>\n",
       "      <th>5</th>\n",
       "      <td>6</td>\n",
       "      <td>middle point</td>\n",
       "    </tr>\n",
       "    <tr>\n",
       "      <th>6</th>\n",
       "      <td>7</td>\n",
       "      <td>destination</td>\n",
       "    </tr>\n",
       "  </tbody>\n",
       "</table>\n",
       "</div>"
      ],
      "text/plain": [
       "   node   description\n",
       "0     1        origin\n",
       "1     2  middle point\n",
       "2     3  middle point\n",
       "3     4  middle point\n",
       "4     5  middle point\n",
       "5     6  middle point\n",
       "6     7   destination"
      ]
     },
     "execution_count": 7,
     "metadata": {},
     "output_type": "execute_result"
    }
   ],
   "source": [
    "nodes"
   ]
  },
  {
   "cell_type": "code",
   "execution_count": 8,
   "metadata": {},
   "outputs": [
    {
     "data": {
      "text/html": [
       "<div>\n",
       "<style scoped>\n",
       "    .dataframe tbody tr th:only-of-type {\n",
       "        vertical-align: middle;\n",
       "    }\n",
       "\n",
       "    .dataframe tbody tr th {\n",
       "        vertical-align: top;\n",
       "    }\n",
       "\n",
       "    .dataframe thead th {\n",
       "        text-align: right;\n",
       "    }\n",
       "</style>\n",
       "<table border=\"1\" class=\"dataframe\">\n",
       "  <thead>\n",
       "    <tr style=\"text-align: right;\">\n",
       "      <th></th>\n",
       "      <th>node_from</th>\n",
       "      <th>node_to</th>\n",
       "      <th>distance</th>\n",
       "    </tr>\n",
       "  </thead>\n",
       "  <tbody>\n",
       "    <tr>\n",
       "      <th>0</th>\n",
       "      <td>1</td>\n",
       "      <td>2</td>\n",
       "      <td>220</td>\n",
       "    </tr>\n",
       "    <tr>\n",
       "      <th>1</th>\n",
       "      <td>1</td>\n",
       "      <td>3</td>\n",
       "      <td>1500</td>\n",
       "    </tr>\n",
       "    <tr>\n",
       "      <th>2</th>\n",
       "      <td>2</td>\n",
       "      <td>4</td>\n",
       "      <td>650</td>\n",
       "    </tr>\n",
       "    <tr>\n",
       "      <th>3</th>\n",
       "      <td>2</td>\n",
       "      <td>5</td>\n",
       "      <td>900</td>\n",
       "    </tr>\n",
       "    <tr>\n",
       "      <th>4</th>\n",
       "      <td>4</td>\n",
       "      <td>7</td>\n",
       "      <td>500</td>\n",
       "    </tr>\n",
       "    <tr>\n",
       "      <th>5</th>\n",
       "      <td>5</td>\n",
       "      <td>7</td>\n",
       "      <td>400</td>\n",
       "    </tr>\n",
       "    <tr>\n",
       "      <th>6</th>\n",
       "      <td>3</td>\n",
       "      <td>6</td>\n",
       "      <td>500</td>\n",
       "    </tr>\n",
       "    <tr>\n",
       "      <th>7</th>\n",
       "      <td>6</td>\n",
       "      <td>7</td>\n",
       "      <td>400</td>\n",
       "    </tr>\n",
       "  </tbody>\n",
       "</table>\n",
       "</div>"
      ],
      "text/plain": [
       "   node_from  node_to  distance\n",
       "0          1        2       220\n",
       "1          1        3      1500\n",
       "2          2        4       650\n",
       "3          2        5       900\n",
       "4          4        7       500\n",
       "5          5        7       400\n",
       "6          3        6       500\n",
       "7          6        7       400"
      ]
     },
     "execution_count": 8,
     "metadata": {},
     "output_type": "execute_result"
    }
   ],
   "source": [
    "paths"
   ]
  },
  {
   "cell_type": "code",
   "execution_count": 16,
   "metadata": {},
   "outputs": [
    {
     "data": {
      "text/plain": [
       "0"
      ]
     },
     "execution_count": 16,
     "metadata": {},
     "output_type": "execute_result"
    }
   ],
   "source": [
    "paths.index[0]"
   ]
  },
  {
   "cell_type": "markdown",
   "metadata": {},
   "source": [
    "# Multi-Objective Problems using NSGA-II - An introduction"
   ]
  },
  {
   "cell_type": "code",
   "execution_count": null,
   "metadata": {},
   "outputs": [],
   "source": [
    "import numpy as np\n",
    "from pymoo.core.problem import ElementwiseProblem\n",
    "from pymoo.termination import get_termination\n",
    "from pymoo.algorithms.moo.nsga2 import NSGA2\n",
    "from pymoo.operators.crossover.sbx import SBX\n",
    "from pymoo.operators.mutation.pm import PM\n",
    "from pymoo.operators.sampling.rnd import FloatRandomSampling\n",
    "from pymoo.optimize import minimize\n",
    " \n",
    "#definition of the problem\n",
    "class MyProblem(ElementwiseProblem):\n",
    "     \n",
    "    def __init__(self):\n",
    "        super().__init__(n_var=2,\n",
    "                         n_obj=2,\n",
    "                         n_constr=2,\n",
    "                         xl=np.array([-2,-2]),\n",
    "                         xu=np.array([2,2]))\n",
    " \n",
    "    def _evaluate(self, x, out, *args, **kwargs):\n",
    "        f1 = 100 * (x[0]**2 + x[1]**2)\n",
    "        f2 = (x[0]-1)**2 + x[1]**2\n",
    " \n",
    "        g1 = 2*(x[0]-0.1) * (x[0]-0.9) / 0.18\n",
    "        g2 = - 20*(x[0]-0.4) * (x[0]-0.6) / 4.8\n",
    " \n",
    "        out[\"F\"] = [f1, f2]\n",
    "        out[\"G\"] = [g1, g2]\n",
    " \n",
    "problem = MyProblem()\n",
    " \n",
    "#parameters\n",
    "algorithm = NSGA2(\n",
    "    pop_size=40,\n",
    "    n_offsprings=10,\n",
    "    sampling=FloatRandomSampling(),\n",
    "    crossover=SBX(prob=0.9, eta=15),\n",
    "    mutation=PM(eta=20),\n",
    "    eliminate_duplicates=True\n",
    ")\n",
    " \n",
    "#termination criteria\n",
    "termination = get_termination(\"n_gen\", 40)\n",
    " \n",
    "#solve problem\n",
    "res = minimize(problem,\n",
    "               algorithm,\n",
    "               termination,\n",
    "               seed=1,\n",
    "               save_history=True,\n",
    "               verbose=True)\n",
    " \n",
    "#get solutions\n",
    "X = res.X\n",
    "F = res.F"
   ]
  },
  {
   "cell_type": "code",
   "execution_count": 20,
   "metadata": {},
   "outputs": [
    {
     "data": {
      "image/png": "[encoded data removed]",
      "text/plain": [
       "<Figure size 700x500 with 1 Axes>"
      ]
     },
     "metadata": {},
     "output_type": "display_data"
    }
   ],
   "source": [
    "import matplotlib.pyplot as plt\n",
    "plt.figure(figsize=(7, 5))\n",
    "plt.scatter(F[:, 0], F[:, 1], s=30, facecolors='none', edgecolors='blue')\n",
    "plt.title(\"Objective Space\")\n",
    "plt.show()\n"
   ]
  },
  {
   "cell_type": "markdown",
   "metadata": {},
   "source": [
    "# Particle Swarm Optimization"
   ]
  },
  {
   "cell_type": "code",
   "execution_count": 1,
   "metadata": {},
   "outputs": [
    {
     "name": "stdout",
     "output_type": "stream",
     "text": [
      "Stopping search: Swarm best objective change less than 1e-08\n",
      "x= 5.0\n",
      "y= 1.2999999954647032\n"
     ]
    }
   ],
   "source": [
    "import numpy as np\n",
    "from pyswarm import pso\n",
    "\n",
    "def model_obj (x):\n",
    "    pen = 0\n",
    "    x[0] = np.round (x[0], 0)\n",
    "    if not -x[0] + 2*x[1]*x[0] <= 8 : pen = np.inf\n",
    "    if not 2*x[0] + x[1] <= 14 : pen = np.inf\n",
    "    if not 2*x[0] - x[1] <= 10 : pen = np.inf\n",
    "    return -(x[0] + x[1]*x[0]) + pen\n",
    "\n",
    "def cons(x):\n",
    "    return []\n",
    "\n",
    "lb = [0,0]\n",
    "ub = [10, 10]\n",
    "x0 = [0, 0]\n",
    "\n",
    "xopt, fopt = pso (model_obj, lb, ub, x0, cons)\n",
    "\n",
    "print ('x=', xopt[0])\n",
    "print ('y=', xopt[1])"
   ]
  },
  {
   "cell_type": "markdown",
   "metadata": {},
   "source": [
    "# Constraint Programming (CP)"
   ]
  },
  {
   "cell_type": "code",
   "execution_count": 1,
   "metadata": {},
   "outputs": [
    {
     "name": "stdout",
     "output_type": "stream",
     "text": [
      "Name: ortools\n",
      "Version: 9.10.4067\n",
      "Summary: Google OR-Tools python libraries and modules\n",
      "Home-page: https://developers.google.com/optimization/\n",
      "Author: Google LLC\n",
      "Author-email: or-tools@google.com\n",
      "License: Apache 2.0\n",
      "Location: c:\\users\\vusal.babashov\\myprograms\\python3.9\\lib\\site-packages\n",
      "Requires: absl-py, immutabledict, numpy, pandas, protobuf\n",
      "Required-by: \n",
      "Note: you may need to restart the kernel to use updated packages.\n"
     ]
    }
   ],
   "source": [
    "pip show ortools"
   ]
  },
  {
   "cell_type": "code",
   "execution_count": 1,
   "metadata": {},
   "outputs": [
    {
     "ename": "ModuleNotFoundError",
     "evalue": "No module named 'ortools'",
     "output_type": "error",
     "traceback": [
      "\u001b[1;31m---------------------------------------------------------------------------\u001b[0m",
      "\u001b[1;31mModuleNotFoundError\u001b[0m                       Traceback (most recent call last)",
      "Cell \u001b[1;32mIn[1], line 2\u001b[0m\n\u001b[0;32m      1\u001b[0m \u001b[38;5;124;03m\"\"\"Simple solve.\"\"\"\u001b[39;00m\n\u001b[1;32m----> 2\u001b[0m \u001b[38;5;28;01mfrom\u001b[39;00m \u001b[38;5;21;01mortools\u001b[39;00m\u001b[38;5;21;01m.\u001b[39;00m\u001b[38;5;21;01msat\u001b[39;00m\u001b[38;5;21;01m.\u001b[39;00m\u001b[38;5;21;01mpython\u001b[39;00m \u001b[38;5;28;01mimport\u001b[39;00m cp_model\n\u001b[0;32m      5\u001b[0m \u001b[38;5;28;01mdef\u001b[39;00m \u001b[38;5;21mmain\u001b[39m() \u001b[38;5;241m-\u001b[39m\u001b[38;5;241m>\u001b[39m \u001b[38;5;28;01mNone\u001b[39;00m:\n\u001b[0;32m      6\u001b[0m     \u001b[38;5;124;03m\"\"\"Minimal CP-SAT example to showcase calling the solver.\"\"\"\u001b[39;00m\n",
      "\u001b[1;31mModuleNotFoundError\u001b[0m: No module named 'ortools'"
     ]
    }
   ],
   "source": [
    "\"\"\"Simple solve.\"\"\"\n",
    "from ortools.sat.python import cp_model\n",
    "\n",
    "\n",
    "def main() -> None:\n",
    "    \"\"\"Minimal CP-SAT example to showcase calling the solver.\"\"\"\n",
    "    # Creates the model.\n",
    "    model = cp_model.CpModel()\n",
    "\n",
    "    # Creates the variables.\n",
    "    var_upper_bound = max(50, 45, 37)\n",
    "    x = model.new_int_var(0, var_upper_bound, \"x\")\n",
    "    y = model.new_int_var(0, var_upper_bound, \"y\")\n",
    "    z = model.new_int_var(0, var_upper_bound, \"z\")\n",
    "\n",
    "    # Creates the constraints.\n",
    "    model.add(2 * x + 7 * y + 3 * z <= 50)\n",
    "    model.add(3 * x - 5 * y + 7 * z <= 45)\n",
    "    model.add(5 * x + 2 * y - 6 * z <= 37)\n",
    "\n",
    "    model.maximize(2 * x + 2 * y + 3 * z)\n",
    "\n",
    "    # Creates a solver and solves the model.\n",
    "    solver = cp_model.CpSolver()\n",
    "    status = solver.solve(model)\n",
    "\n",
    "    if status == cp_model.OPTIMAL or status == cp_model.FEASIBLE:\n",
    "        print(f\"Maximum of objective function: {solver.objective_value}\\n\")\n",
    "        print(f\"x = {solver.value(x)}\")\n",
    "        print(f\"y = {solver.value(y)}\")\n",
    "        print(f\"z = {solver.value(z)}\")\n",
    "    else:\n",
    "        print(\"No solution found.\")\n",
    "\n",
    "    # Statistics.\n",
    "    print(\"\\nStatistics\")\n",
    "    print(f\"  status   : {solver.status_name(status)}\")\n",
    "    print(f\"  conflicts: {solver.num_conflicts}\")\n",
    "    print(f\"  branches : {solver.num_branches}\")\n",
    "    print(f\"  wall time: {solver.wall_time} s\")\n",
    "\n",
    "\n",
    "if __name__ == \"__main__\":\n",
    "    main()"
   ]
  },
  {
   "cell_type": "code",
   "execution_count": 1,
   "metadata": {},
   "outputs": [
    {
     "ename": "",
     "evalue": "",
     "output_type": "error",
     "traceback": [
      "\u001b[1;31mThe Kernel crashed while executing code in the current cell or a previous cell. \n",
      "\u001b[1;31mPlease review the code in the cell(s) to identify a possible cause of the failure. \n",
      "\u001b[1;31mClick <a href='https://aka.ms/vscodeJupyterKernelCrash'>here</a> for more info. \n",
      "\u001b[1;31mView Jupyter <a href='command:jupyter.viewOutput'>log</a> for further details."
     ]
    }
   ],
   "source": [
    "from ortools.sat.python import cp_model\n",
    "\n",
    "\n",
    "def solve_with_time_limit_sample_sat():\n",
    "    \"\"\"Minimal CP-SAT example to showcase calling the solver.\"\"\"\n",
    "    # Creates the model.\n",
    "    model = cp_model.CpModel()\n",
    "    # Creates the variables.\n",
    "    num_vals = 3\n",
    "    x = model.new_int_var(0, num_vals - 1, \"x\")\n",
    "    y = model.new_int_var(0, num_vals - 1, \"y\")\n",
    "    z = model.new_int_var(0, num_vals - 1, \"z\")\n",
    "    # Adds an all-different constraint.\n",
    "    model.add(x != y)\n",
    "\n",
    "    # Creates a solver and solves the model.\n",
    "    solver = cp_model.CpSolver()\n",
    "\n",
    "    # Sets a time limit of 10 seconds.\n",
    "    solver.parameters.max_time_in_seconds = 10.0\n",
    "\n",
    "    status = solver.solve(model)\n",
    "\n",
    "    if status == cp_model.OPTIMAL:\n",
    "        print(f\"x = {solver.value(x)}\")\n",
    "        print(f\"y = {solver.value(y)}\")\n",
    "        print(f\"z = {solver.value(z)}\")\n",
    "\n",
    "\n",
    "solve_with_time_limit_sample_sat()"
   ]
  }
 ],
 "metadata": {
  "kernelspec": {
   "display_name": "Python 3",
   "language": "python",
   "name": "python3"
  },
  "language_info": {
   "codemirror_mode": {
    "name": "ipython",
    "version": 3
   },
   "file_extension": ".py",
   "mimetype": "text/x-python",
   "name": "python",
   "nbconvert_exporter": "python",
   "pygments_lexer": "ipython3",
   "version": "3.9.9"
  }
 },
 "nbformat": 4,
 "nbformat_minor": 2
}
